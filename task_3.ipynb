{
  "nbformat": 4,
  "nbformat_minor": 0,
  "metadata": {
    "colab": {
      "provenance": [],
      "authorship_tag": "ABX9TyO6lamxm4U3hSRo98YPfcS2",
      "include_colab_link": true
    },
    "kernelspec": {
      "name": "python3",
      "display_name": "Python 3"
    },
    "language_info": {
      "name": "python"
    }
  },
  "cells": [
    {
      "cell_type": "markdown",
      "metadata": {
        "id": "view-in-github",
        "colab_type": "text"
      },
      "source": [
        "<a href=\"https://colab.research.google.com/github/Suthir731/Codsoft-Intern/blob/main/task_3.ipynb\" target=\"_parent\"><img src=\"https://colab.research.google.com/assets/colab-badge.svg\" alt=\"Open In Colab\"/></a>"
      ]
    },
    {
      "cell_type": "code",
      "execution_count": null,
      "metadata": {
        "id": "bz-bSoKabvSg"
      },
      "outputs": [],
      "source": [
        "import pandas as pd\n",
        "import numpy as np\n",
        "import matplotlib.pyplot as plt\n",
        "import seaborn as sns\n",
        "from sklearn.model_selection import train_test_split\n",
        "from sklearn.preprocessing import StandardScaler, OneHotEncoder\n",
        "from sklearn.compose import ColumnTransformer\n",
        "from sklearn.pipeline import Pipeline\n",
        "from sklearn.linear_model import LinearRegression\n",
        "from sklearn.metrics import mean_squared_error, r2_score\n",
        "\n",
        "# Load the dataset (replace with your dataset path or URL)\n",
        "data = pd.read_csv(\"\")\n",
        "\n",
        "# Display the first few rows of the dataset\n",
        "print(data.head())\n",
        "print(data.info())\n",
        "\n",
        "# Data Preprocessing\n",
        "# Handle missing values (if any)\n",
        "data = data.dropna()\n",
        "\n",
        "# Define features and target variable\n",
        "# Assuming the dataset has features like 'Advertising_Expenditure', 'Audience_Segmentation', and 'Advertising_Platform'\n",
        "X = data[['Advertising_Expenditure', 'Audience_Segmentation', 'Advertising_Platform']]\n",
        "y = data['Sales']\n",
        "\n",
        "# Preprocessing pipeline\n",
        "# Numeric features are scaled\n",
        "# Categorical features are one-hot encoded\n",
        "preprocessor = ColumnTransformer(\n",
        "    transformers=[\n",
        "        ('num', StandardScaler(), ['Advertising_Expenditure']),\n",
        "        ('cat', OneHotEncoder(), ['Audience_Segmentation', 'Advertising_Platform'])\n",
        "    ])\n",
        "\n",
        "# Define the model\n",
        "model = Pipeline(steps=[\n",
        "    ('preprocessor', preprocessor),\n",
        "    ('regressor', LinearRegression())\n",
        "])\n",
        "\n",
        "# Split the data into training and test sets\n",
        "X_train, X_test, y_train, y_test = train_test_split(X, y, test_size=0.2, random_state=42)\n",
        "\n",
        "# Train the model\n",
        "model.fit(X_train, y_train)\n",
        "\n",
        "# Make predictions\n",
        "y_pred = model.predict(X_test)\n",
        "\n",
        "# Evaluate the model\n",
        "mse = mean_squared_error(y_test, y_pred)\n",
        "r2 = r2_score(y_test, y_pred)\n",
        "print(f'Mean Squared Error: {mse:.2f}')\n",
        "print(f'R^2 Score: {r2:.2f}')\n",
        "\n",
        "# Visualization of actual vs predicted sales\n",
        "plt.figure(figsize=(10, 6))\n",
        "plt.scatter(y_test, y_pred, alpha=0.7)\n",
        "plt.xlabel('Actual Sales')\n",
        "plt.ylabel('Predicted Sales')\n",
        "plt.title('Actual vs Predicted Sales')\n",
        "plt.show()\n",
        "\n",
        "# Visualization of feature importance (if applicable)\n",
        "# For LinearRegression, we can show the coefficients of the features\n",
        "coefficients = model.named_steps['regressor'].coef_\n",
        "feature_names = model.named_steps['preprocessor'].transformers_[1][1].get_feature_names_out(['Audience_Segmentation', 'Advertising_Platform'])\n",
        "feature_names = ['Advertising_Expenditure'] + list(feature_names)\n",
        "coeff_df = pd.DataFrame({'Feature': feature_names, 'Coefficient': coefficients})\n",
        "coeff_df = coeff_df.sort_values(by='Coefficient', ascending=False)\n",
        "\n",
        "plt.figure(figsize=(12, 8))\n",
        "sns.barplot(x='Coefficient', y='Feature', data=coeff_df)\n",
        "plt.title('Feature Importance (Coefficients) in Sales Prediction')\n",
        "plt.show()\n"
      ]
    }
  ]
}